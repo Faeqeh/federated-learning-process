{
 "cells": [
  {
   "cell_type": "code",
   "execution_count": null,
   "id": "7615b5ab-5b8e-4a01-b13b-40b837274fe8",
   "metadata": {},
   "outputs": [],
   "source": [
    "# تعریف مدل‌ها با معماری یکسان و پیاده‌سازی متفاوت\n",
    "def create_model(client_id):\n",
    "    model = tf.keras.Sequential([\n",
    "        tf.keras.layers.Flatten(input_shape=(28, 28, 1)),  # اصلاح ورودی مدل\n",
    "        tf.keras.layers.Dense(128, activation='relu', kernel_initializer=tf.keras.initializers.GlorotUniform(seed=client_id)),\n",
    "        tf.keras.layers.Dropout(0.2 + client_id * 0.01),  # تغییر مقدار Dropout\n",
    "        tf.keras.layers.Dense(10, activation='softmax')\n",
    "    ])\n",
    "    return model\n",
    "\n",
    "# آموزش مدل‌ها برای هر کلاینت\n",
    "models = []\n",
    "histories = []\n",
    "model_features = {}  # دیکشنری برای ذخیره ویژگی‌های هر مدل\n",
    "\n",
    "for client_id in range(1, num_clients + 1):\n",
    "    model = create_model(client_id)\n",
    "    client_data = clients_data_test[client_id - 1]\n",
    "    X_train_client, y_train_client = client_data\n",
    "    learning_rate = 0.001 + (client_id - 1) * 0.0001  # نرخ یادگیری برای هر مدل\n",
    "    model.compile(optimizer=tf.keras.optimizers.Adam(learning_rate=learning_rate),  # تغییر learning rate\n",
    "                  loss='sparse_categorical_crossentropy',\n",
    "                  metrics=['accuracy'])\n",
    "    \n",
    "    history = model.fit(X_train_client, y_train_client, epochs=5, verbose=0)\n",
    "    \n",
    "    models.append(model)\n",
    "    histories.append(history)\n",
    "    model_features[client_id] = {\n",
    "        'learning_rate': learning_rate,\n",
    "        'dropout': 0.2 + client_id * 0.01\n",
    "    }\n"
   ]
  }
 ],
 "metadata": {
  "kernelspec": {
   "display_name": "evn8",
   "language": "python",
   "name": "evn8"
  },
  "language_info": {
   "codemirror_mode": {
    "name": "ipython",
    "version": 3
   },
   "file_extension": ".py",
   "mimetype": "text/x-python",
   "name": "python",
   "nbconvert_exporter": "python",
   "pygments_lexer": "ipython3",
   "version": "3.8.19"
  }
 },
 "nbformat": 4,
 "nbformat_minor": 5
}
